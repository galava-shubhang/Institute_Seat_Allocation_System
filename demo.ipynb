{
 "cells": [
  {
   "cell_type": "markdown",
   "metadata": {
    "id": "ns8YrbNBlwbz"
   },
   "source": [
    "# DSA Minor Project - Institute Seat Allocation System For New Admits\n",
    "\n",
    "---\n",
    "\n"
   ]
  },
  {
   "cell_type": "markdown",
   "metadata": {
    "id": "x1u7VV_GmKWx"
   },
   "source": [
    "**Team Member Details:**\n",
    "\n",
    "---\n",
    "\n",
    "\n",
    "\n",
    "**Member 1 -** \\\n",
    "*Name:* Shubhang S. Galagali \\\n",
    "*E-mail ID:* shubhanggalagali@gmail.com\n",
    "\n",
    "\\\n",
    "**Member 2 -** \\\n",
    "*Name:* Ashish Manash \\\n",
    "*E-mail ID:* ashishmanash1@gmail.com\n",
    "\n",
    "---\n",
    "\n"
   ]
  },
  {
   "cell_type": "markdown",
   "metadata": {
    "id": "ZBZ6uDXGFNRB"
   },
   "source": [
    "**1. Defining Roles and Permissions for Users:**"
   ]
  },
  {
   "cell_type": "code",
   "execution_count": 4,
   "metadata": {
    "id": "V3Axa2eVE3de"
   },
   "outputs": [],
   "source": [
    "class Role:\n",
    "    ADMIN = \"admin\"\n",
    "    INSTITUTE = \"institute\"\n",
    "    STUDENT = \"User is a student\"\n"
   ]
  },
  {
   "cell_type": "markdown",
   "metadata": {
    "id": "ypnKm1qDFVuo"
   },
   "source": [
    "**2. Creating a User Database:**"
   ]
  },
  {
   "cell_type": "code",
   "execution_count": null,
   "metadata": {
    "id": "_wVGY71yHOGl"
   },
   "outputs": [],
   "source": [
    "class User:\n",
    "    def __init__(self, username=\"\", password=\"\", role=\"\"):\n",
    "        \"\"\"\n",
    "\n",
    "        Args:\n",
    "          username:\n",
    "          password:\n",
    "          role:\n",
    "        \"\"\"\n",
    "        self.username = username\n",
    "        self.password = password\n",
    "        self.role = role\n",
    "\n",
    "# User database (in-memory for simplicity)\n",
    "# Objects under the class User are created, wherein we have assigned each participating\n",
    "#  institute an username, and the same as the password.\n",
    "\n",
    "users = {\n",
    "    \"admin\": User(\"admin\", \"DSAPROJECTCS202M\", Role.ADMIN),\n",
    "    \"NITK\": User(\"NITK\", \"NITK\", Role.INSTITUTE),\n",
    "    \"NITT\": User(\"NITT\", \"NITT\", Role.INSTITUTE),\n",
    "    \"NITC\": User(\"NITC\", \"NITC\", Role.INSTITUTE),\n",
    "    \"IITB\": User(\"IITB\", \"IITB\", Role.INSTITUTE),\n",
    "    \"IITM\": User(\"IITM\", \"IITM\", Role.INSTITUTE),\n",
    "}"
   ]
  },
  {
   "cell_type": "markdown",
   "metadata": {
    "id": "BMt20MJKFYb_"
   },
   "source": [
    "**3. Creating a Student Database:**"
   ]
  },
  {
   "cell_type": "code",
   "execution_count": 8,
   "metadata": {
    "id": "e9xcsWfVHOvt"
   },
   "outputs": [],
   "source": [
    "# Define the Student class\n",
    "class Student:\n",
    "    \"\"\"\n",
    "\n",
    "    Attributes:\n",
    "      username:\n",
    "      password:\n",
    "      rank:\n",
    "      preferences:\n",
    "      allocated:\n",
    "      role:\n",
    "    \"\"\"\n",
    "    def __init__(self, username, password, rank, preferences, role):\n",
    "        self.username = username\n",
    "        self.password = password\n",
    "        self.rank = rank\n",
    "        self.preferences = preferences  # List of tuples like [(institute, branch), ...]\n",
    "        self.allocated = None  # To store allocated seat as (institute, branch)\n",
    "        self.role = role\n",
    "    # Define a method to return student details.\n",
    "    def __repr__(self):\n",
    "        return f\"{self.username},{self.password},{self.rank},{self.preferences},{self.role}\""
   ]
  },
  {
   "cell_type": "code",
   "execution_count": null,
   "metadata": {
    "id": "AAaAN6zsHqXt"
   },
   "outputs": [],
   "source": [
    "import random\n",
    "# We are using the random command to generate random ranks and preferences.\n",
    "\n",
    "\n",
    "'''\n",
    "Student database - currently initialised for simplicity in a python dictionary,but it can\n",
    "be taken as input from  the user during registration and can be stored in a database, as in a .csv file.\n",
    "\n",
    "Currently, the username and the password of the student is initialised to their registration number, starting\n",
    "from 24101 upto 24199.\n",
    "Also we have assumed 300 students took up the common entrance examination, so minimum rank is 1, and \n",
    "maximum rank is 300 (numerically).\n",
    "'''\n",
    "\n",
    "ranks = []\n",
    "def generate_ranks():\n",
    "    while(len(ranks) != 300):\n",
    "        for i in range(1, 301):\n",
    "            rank = random.randint(1,300)\n",
    "            if rank in ranks: # Ensuring all elements of 'ranks' are unique.\n",
    "                continue\n",
    "            else:\n",
    "                ranks.append(rank)\n",
    "\n",
    "    #print(len(ranks))\n",
    "    #print(len(set(ranks))) # Cross-checking if all elements of 'ranks' are unique.\n",
    "\n",
    "    return ranks\n",
    "\n",
    "ranks = generate_ranks()\n",
    "\n"
   ]
  },
  {
   "cell_type": "code",
   "execution_count": 10,
   "metadata": {
    "id": "8IyyzBLaHzyL"
   },
   "outputs": [],
   "source": [
    "'''\n",
    "Writing a fucntion to generate preferences for each student (doing this due to lack of database management).\n",
    "Thus hadnling of invalid preferences is taken care of in the backend logic.\n",
    "'''\n",
    "\n",
    "def generate_realistic_preferences():\n",
    "    institutes = [\"NITK\", \"NITT\", \"NITC\", \"IITB\", \"IITM\"]\n",
    "    branches = [\"EC\", \"ME\"]  # EC: Electronics and Communication Engineering, ME: Mechanical Engineering.\n",
    "    preferences = []\n",
    "    no_of_preferences = random.randint(3,5)\n",
    "    for _ in range(no_of_preferences): # We are allowing a minimum of 3 & a maximum of 5 preferences to each student.\n",
    "        # Randomly select an institute and a branch\n",
    "        institute = random.choice(institutes)\n",
    "        branch = random.choice(branches)\n",
    "        preferences.append((institute, branch))\n",
    "    return preferences\n"
   ]
  },
  {
   "cell_type": "code",
   "execution_count": null,
   "metadata": {
    "id": "n-i8E3gOH1y2"
   },
   "outputs": [],
   "source": [
    "'''\n",
    "Using dictionary data structure to store the student details, and an advantage is hashing while using dictionaries.\n",
    "\n",
    "We are assuming 99 students registred for the Institute Seat Allocation process\n",
    "out of 300 students who gave the common entrance examination.\n",
    "\n",
    "Thus the IDs/Usernames of students range from 24001 upto 24199.\n",
    "'''\n",
    "\n",
    "students = {}\n",
    "def generate_student_data():\n",
    "    \n",
    "    for i in range(24101, 24200):\n",
    "\n",
    "        j = i - 24101 ## j will be the index of the rank in the list 'ranks' which contains ranks from 1 to 300 \n",
    "        #in a random order.\n",
    "        preferences=generate_realistic_preferences() # calling the 'generate_realistic_preferences()' function \n",
    "        #for each student.\n",
    "        students[i] = Student(i, i, ranks[j], preferences, role=Role.STUDENT)\n",
    "\n",
    "    return students"
   ]
  },
  {
   "cell_type": "code",
   "execution_count": 12,
   "metadata": {
    "id": "o6oTTvm_H4K5"
   },
   "outputs": [],
   "source": [
    "'''\n",
    "Calling the 'generate_student_data()' function for each student, to assign ranks and preferences to each student\n",
    "who has registered for the Institute Seat Allocation System.\n",
    "'''\n",
    "\n",
    "students = generate_student_data()"
   ]
  },
  {
   "cell_type": "markdown",
   "metadata": {
    "id": "1MvwwJOmGs6D"
   },
   "source": [
    "**4. Backend Logic for User Login:**"
   ]
  },
  {
   "cell_type": "code",
   "execution_count": null,
   "metadata": {
    "id": "ErqO3nOrHPqv"
   },
   "outputs": [],
   "source": [
    "'''\n",
    "Implementing a login function which checks if the username and password entered by the user matches the data \n",
    "stored/initialised\n",
    "in the system under 'users' dictionary as objects of the 'User' class.\n",
    "'''\n",
    "\n",
    "def login(username, password, role):\n",
    "    if role == Role.STUDENT:\n",
    "        user = students.get(username)\n",
    "        if user and user.password == password:\n",
    "            print(\"\\nLogin Successful!\\n\")\n",
    "            return True\n",
    "        print(\"Invalid username or password!! Please try again.\")\n",
    "        return False\n",
    "    else:\n",
    "        user = users.get(username)\n",
    "        if user and user.password == password and user.role == role:\n",
    "            print(\"Login successful!\")\n",
    "            return True\n",
    "        print(\"Invalid username or password!! Please try again.\")\n",
    "        return False"
   ]
  },
  {
   "cell_type": "markdown",
   "metadata": {
    "id": "eplKspLiGxLA"
   },
   "source": [
    "**5. Backend Logic for New User Registration Process:**"
   ]
  },
  {
   "cell_type": "code",
   "execution_count": null,
   "metadata": {
    "id": "BObcvqqOHQcQ"
   },
   "outputs": [],
   "source": [
    "'''\n",
    "Implementing a register_user() function which creates a new object\n",
    "in the system under 'users' dictionary as objects of the 'User' class, and initialises using the input given by \n",
    "the user.\n",
    "\n",
    "Currently, this new registered user cannot participate in the allocation process, but in the next version of the \n",
    "project, we shall implement in such a manner where using database management tools, new users can be allowed to\n",
    " register and participate in the allocation process.\n",
    "'''\n",
    "\n",
    "\n",
    "def register_user(username, password, role):\n",
    "    if username not in students:\n",
    "        rank = int(input(\"Please enter your rank: \"))\n",
    "        if rank < 1 or rank > 300:\n",
    "            print(\"Invalid rank. Rank should be between 1 and 300.\") #Checking if rank is valid as per assumptions made under Section 3.\n",
    "            return \" \"\n",
    "        preferences = input(\"Please enter your preferences! \")\n",
    "        students[username] = Student(username, password, rank, preferences, role=Role.STUDENT)\n",
    "        print(\"Registration successful!\")\n",
    "    else:\n",
    "        print(\"Username already exists.\")\n",
    "    return \" \""
   ]
  },
  {
   "cell_type": "markdown",
   "metadata": {
    "id": "jgAGCWt-G1nX"
   },
   "source": [
    "**6. Implementation of a Priority Queue for sorting the students based on their rank:**"
   ]
  },
  {
   "cell_type": "code",
   "execution_count": 18,
   "metadata": {
    "id": "QVOhIu4qHRJT"
   },
   "outputs": [],
   "source": [
    "'''Priority Queue to sort students based on ascending order of ranks'''\n",
    "\n",
    "# Priority Queue implementation\n",
    "class PriorityQueue:\n",
    "    def __init__(self):\n",
    "        self.queue = []\n",
    "\n",
    "    def is_empty(self):\n",
    "        return len(self.queue) == 0\n",
    "\n",
    "    def enqueue(self, student_id, rank):\n",
    "        # Insert student based on rank to maintain sorted order\n",
    "        index = 0\n",
    "        while index < len(self.queue) and self.queue[index][1] <= rank:\n",
    "            index += 1\n",
    "        self.queue.insert(index, (student_id, rank))\n",
    "\n",
    "    def dequeue(self):\n",
    "        # Remove the student with the highest priority (lowest rank)\n",
    "        if not self.is_empty():\n",
    "            return self.queue.pop(0)\n",
    "        return None\n",
    "\n"
   ]
  },
  {
   "cell_type": "markdown",
   "metadata": {
    "id": "Kgm_cvYMHGmR"
   },
   "source": [
    "**7. Seat Allocation System Logic:**"
   ]
  },
  {
   "cell_type": "code",
   "execution_count": 20,
   "metadata": {
    "id": "JkXeH_dsHR0m"
   },
   "outputs": [],
   "source": [
    "'''\n",
    "Defined the seats for each institute and branch.\n",
    "We have taken 5 Engineering institutions and have assumed 2 branches per institute and 10 seats per branch.\n",
    "\n",
    "EC - Electronics and Communication Engineering, ME - Mechanical Engineering\n",
    "'''\n",
    "\n",
    "# Defiing seat capacities for institutes\n",
    "\n",
    "seat_capacity = 10\n",
    "\n",
    "institutes = {\n",
    "    \"NITK\": {\"EC\": seat_capacity, \"ME\": seat_capacity},\n",
    "    \"NITT\": {\"EC\": seat_capacity, \"ME\": seat_capacity},\n",
    "    \"NITC\": {\"EC\": seat_capacity, \"ME\": seat_capacity},\n",
    "    \"IITB\": {\"EC\": seat_capacity, \"ME\": seat_capacity},\n",
    "    \"IITM\": {\"EC\": seat_capacity, \"ME\": seat_capacity}\n",
    "}\n",
    "\n"
   ]
  },
  {
   "cell_type": "code",
   "execution_count": 21,
   "metadata": {
    "id": "ReFpU0TaI7lN"
   },
   "outputs": [],
   "source": [
    "# Initialize the priority queue and populate it with students based on their rank\n",
    "\n",
    "priority_queue = PriorityQueue()\n",
    "for student_id, student in students.items():\n",
    "    priority_queue.enqueue(student_id, student.rank)"
   ]
  },
  {
   "cell_type": "code",
   "execution_count": 22,
   "metadata": {
    "id": "fsUpyjioI8R2"
   },
   "outputs": [],
   "source": [
    "# Dictionary to store final seat allotments for each student\n",
    "seat_allotments = {student_id: None for student_id in students}\n",
    "\n",
    "# Seat allocation process\n",
    "while not priority_queue.is_empty():\n",
    "    student_id, _ = priority_queue.dequeue()\n",
    "    student = students[student_id]\n",
    "    preferences = student.preferences\n",
    "\n",
    "    # Allocate seat based on preferences\n",
    "    for institute, branch in preferences:\n",
    "        if institutes[institute][branch] > 0:  # Check seat availability\n",
    "            seat_allotments[student_id] = (institute, branch)\n",
    "            students[student_id].allocated = (institute, branch)\n",
    "            institutes[institute][branch] -= 1  # Reduce seat count\n",
    "            break  # Stop after assigning the first available preference\n"
   ]
  },
  {
   "cell_type": "markdown",
   "metadata": {
    "id": "qcIysr-xSzjt"
   },
   "source": [
    "**8. Defining Functions for Dashboard of various User Roles.**"
   ]
  },
  {
   "cell_type": "code",
   "execution_count": null,
   "metadata": {
    "id": "2ZZ97gogS6hJ"
   },
   "outputs": [],
   "source": [
    "def admin_ddashboard():\n",
    "                # Admin dashboard - Can view the whole data stored in the system including students' passwords, \n",
    "                # Institute details\n",
    "                # and the Final Seat Allotments of each student.\n",
    "\n",
    "                print(f\"\\n Student Database - ADMIN access:\\n{students}\")\n",
    "                print(f\"\\n\\n List of participating institutes:\\n IITB, \\n IITM, \\n NITC, \\n NITK, \\n NITT. \\n\")\n",
    "                print(f\"\\n Final Seat Allotments of each student:\\n{seat_allotments}\")\n",
    "                return \" \""
   ]
  },
  {
   "cell_type": "code",
   "execution_count": null,
   "metadata": {
    "id": "VaQWdkmyS6vh"
   },
   "outputs": [],
   "source": [
    " # Institute dashboard contains the students admitted into the respective institute, under each branch with the \n",
    " # respective rank of the student.\n",
    "\n",
    "def institute_dashboard(institute_username):\n",
    "                # Initialize the institute_allotments dictionary\n",
    "                institute_allotments = {}\n",
    "\n",
    "                # Populate the institute_allotments dictionary\n",
    "                for student_id in seat_allotments.keys():\n",
    "                  if seat_allotments[student_id] == None: continue\n",
    "                  else:\n",
    "                        institute, branch = seat_allotments[student_id]\n",
    "                        if institute == institute_username:\n",
    "                          # Get the rank for the student_id\n",
    "                          rank = students[student_id].rank\n",
    "                          # Create a institute_allotments entry for the branch if it doesn't exist\n",
    "                          if branch not in institute_allotments:\n",
    "                            institute_allotments[branch] = []\n",
    "                          # Append the student_id and rank tuple to the list for the branch\n",
    "                          institute_allotments[branch].append((student_id, rank))\n",
    "\n",
    "                # Output the institute_allotments dictionary\n",
    "                print(institute_allotments)\n",
    "                return \" \""
   ]
  },
  {
   "cell_type": "code",
   "execution_count": 26,
   "metadata": {
    "id": "O8p1rbtZS65R"
   },
   "outputs": [],
   "source": [
    "# Student Dashboard shows the Student ID, the respective rank, filled preferences and the alotted seat.\n",
    "\n",
    "def student_dashboard(student_username):\n",
    "                      print(f'''Student ID: {student_username},\\n Student Rank: {students[student_username].rank},\n",
    "                      \\n Student Preferences: {students[student_username].preferences},\\n Allocated Seat: {students[student_username].allocated}''')\n",
    "                      return \" \""
   ]
  },
  {
   "cell_type": "markdown",
   "metadata": {
    "id": "NgJj45RJHKUV"
   },
   "source": [
    "**9. Main Execution Function:**"
   ]
  },
  {
   "cell_type": "code",
   "execution_count": null,
   "metadata": {
    "id": "iNWeyVR5HSek"
   },
   "outputs": [],
   "source": [
    "#main()\n",
    "\n",
    "def main():\n",
    "    # We want our project interaction window to run till the user wants to exit the window.\n",
    "    # Using while loop for that.\n",
    "    flag = True  # As long as flag is True, the loop runs, thus the project window is active.\n",
    "    while flag:\n",
    "\n",
    "        # Asking the user, the role to be assigned.\n",
    "\n",
    "        print(\"\\n\\n\\n\\n\\n\\n1. Admin Login (A)\")\n",
    "        print(\"2. Institute Login (I)\")\n",
    "        print(\"3. Student Register/Login (S)\")\n",
    "        print(\"4. Exit (E)\")\n",
    "\n",
    "        choice = input(\"\\nChoose an option: \")\n",
    "\n",
    "        #Asking the user to login using the correct credentials to give access to specific data of the \n",
    "        # program as per the role of the user.\n",
    "\n",
    "        #The admin role:\n",
    "        if choice in ['A', 'a']:\n",
    "            admin_username = input(\"Enter admin username: \").strip()\n",
    "            admin_password = input(\"Enter admin password: \").strip()\n",
    "            if login(admin_username.lower(), admin_password, Role.ADMIN):\n",
    "                print(\"\\n Admin dashboard \\n\")\n",
    "                print(admin_ddashboard())\n",
    "\n",
    "        #The institute role:\n",
    "        elif choice in ['I', 'i']:\n",
    "            institute_username = input(\"Enter institute username: \")\n",
    "            institute_password = input(\"Enter institute password: \")\n",
    "            if login(institute_username, institute_password, Role.INSTITUTE):\n",
    "                print(\"\\n Institute dashboard \\n\")\n",
    "                print(institute_dashboard(institute_username))\n",
    "\n",
    "\n",
    "\n",
    "        #The student role:\n",
    "        elif choice in ['S', 's']:\n",
    "            student_username = int(input(\"Enter student username: \"))\n",
    "            if student_username in students:\n",
    "                student_password = int(input(\"Enter student password: \"))\n",
    "                if login(student_username, student_password, Role.STUDENT):\n",
    "                    print(\"\\n Student dashboard \\n\")\n",
    "                    print(student_dashboard(student_username))\n",
    "            else:\n",
    "                #If the student ID is not present in the database, add the details by creating a new user.\n",
    "                print(\"Welcome Student! Create a new password for your account!\")\n",
    "                student_password = int(input(\"Enter student password: \"))\n",
    "                register_user(student_username, student_password, Role.STUDENT)\n",
    "                print(\"\\nKindly re-login to access your account!\\n\")\n",
    "\n",
    "        #If the user is satified with the program and its results, the step step would be to exit the window:\n",
    "        elif choice in ['E', 'e']:\n",
    "            print(\"Exiting...\")\n",
    "            flag = False\n",
    "\n",
    "        #If an input other than the given roles/exit is given by the user:\n",
    "        else:\n",
    "            print(\"Invalid choice.\")\n"
   ]
  },
  {
   "cell_type": "code",
   "execution_count": null,
   "metadata": {
    "id": "zmoofbClJFjs"
   },
   "outputs": [
    {
     "name": "stdout",
     "output_type": "stream",
     "text": [
      "\n",
      "\n",
      "\n",
      "\n",
      "\n",
      "\n",
      "1. Admin Login (A)\n",
      "2. Institute Login (I)\n",
      "3. Student Register/Login (S)\n",
      "4. Exit (E)\n"
     ]
    }
   ],
   "source": [
    "# Calling the main function to run the project code.\n",
    "\n",
    "main()"
   ]
  },
  {
   "cell_type": "code",
   "execution_count": null,
   "metadata": {},
   "outputs": [],
   "source": []
  }
 ],
 "metadata": {
  "colab": {
   "authorship_tag": "ABX9TyNSPxyGn0j1tmCh0ZboQ6X+",
   "provenance": []
  },
  "kernelspec": {
   "display_name": "Python 3 (ipykernel)",
   "language": "python",
   "name": "python3"
  },
  "language_info": {
   "codemirror_mode": {
    "name": "ipython",
    "version": 3
   },
   "file_extension": ".py",
   "mimetype": "text/x-python",
   "name": "python",
   "nbconvert_exporter": "python",
   "pygments_lexer": "ipython3",
   "version": "3.12.4"
  }
 },
 "nbformat": 4,
 "nbformat_minor": 4
}
